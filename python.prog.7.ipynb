{
 "cells": [
  {
   "cell_type": "markdown",
   "id": "6474266b",
   "metadata": {},
   "source": [
    "# 1. Write a Python Program to find sum of array?"
   ]
  },
  {
   "cell_type": "code",
   "execution_count": 1,
   "id": "1ec8e073",
   "metadata": {},
   "outputs": [
    {
     "name": "stdout",
     "output_type": "stream",
     "text": [
      "Sum of the array: 15\n"
     ]
    }
   ],
   "source": [
    "def array_sum(arr):\n",
    "    # Initialize sum to 0\n",
    "    sum = 0\n",
    "\n",
    "    # Iterate through each element in the array\n",
    "    for num in arr:\n",
    "        sum += num\n",
    "\n",
    "    return sum\n",
    "\n",
    "\n",
    "# Test the program\n",
    "array = [1, 2, 3, 4, 5]\n",
    "result = array_sum(array)\n",
    "print(\"Sum of the array:\", result)\n"
   ]
  },
  {
   "cell_type": "markdown",
   "id": "bfa2580a",
   "metadata": {},
   "source": [
    "# 2. Write a Python Program to find largest element in an array?"
   ]
  },
  {
   "cell_type": "code",
   "execution_count": 2,
   "id": "1f0eb25b",
   "metadata": {},
   "outputs": [
    {
     "name": "stdout",
     "output_type": "stream",
     "text": [
      "Largest element: 25\n"
     ]
    }
   ],
   "source": [
    "def find_largest_element(arr):\n",
    "    # Use the max() function to find the largest element in the array\n",
    "    largest = max(arr)\n",
    "    return largest\n",
    "\n",
    "\n",
    "# Test the program\n",
    "array = [10, 5, 25, 8, 20]\n",
    "result = find_largest_element(array)\n",
    "print(\"Largest element:\", result)\n"
   ]
  },
  {
   "cell_type": "markdown",
   "id": "7bae3417",
   "metadata": {},
   "source": [
    "# 3. Write a Python Program for array rotation?"
   ]
  },
  {
   "cell_type": "code",
   "execution_count": 3,
   "id": "9ba9ac75",
   "metadata": {},
   "outputs": [
    {
     "name": "stdout",
     "output_type": "stream",
     "text": [
      "Original array: [4, 5, 1, 2, 3]\n",
      "Rotated array: [4, 5, 1, 2, 3]\n"
     ]
    }
   ],
   "source": [
    "def rotate_array(arr, k):\n",
    "    # Calculate the effective rotation index\n",
    "    k = k % len(arr)\n",
    "    \n",
    "    # Rotate the array by reversing three parts\n",
    "    reverse_array(arr, 0, len(arr)-1)\n",
    "    reverse_array(arr, 0, k-1)\n",
    "    reverse_array(arr, k, len(arr)-1)\n",
    "    \n",
    "    return arr\n",
    "\n",
    "def reverse_array(arr, start, end):\n",
    "    while start < end:\n",
    "        arr[start], arr[end] = arr[end], arr[start]\n",
    "        start += 1\n",
    "        end -= 1\n",
    "\n",
    "# Test the program\n",
    "array = [1, 2, 3, 4, 5]\n",
    "rotation = 2\n",
    "\n",
    "rotated_array = rotate_array(array, rotation)\n",
    "print(\"Original array:\", array)\n",
    "print(\"Rotated array:\", rotated_array)\n"
   ]
  },
  {
   "cell_type": "markdown",
   "id": "3ca93b2f",
   "metadata": {},
   "source": [
    "# 4. Write a Python Program to Split the array and add the first part to the end?"
   ]
  },
  {
   "cell_type": "code",
   "execution_count": 4,
   "id": "8b4f3695",
   "metadata": {},
   "outputs": [
    {
     "name": "stdout",
     "output_type": "stream",
     "text": [
      "Original array: [1, 2, 3, 4, 5]\n",
      "Split and added array: [3, 4, 5, 1, 2]\n"
     ]
    }
   ],
   "source": [
    "def split_and_add(arr, n):\n",
    "    # Split the array into two parts\n",
    "    first_part = arr[:n]\n",
    "    second_part = arr[n:]\n",
    "    \n",
    "    # Add the first part to the end of the second part\n",
    "    return second_part + first_part\n",
    "\n",
    "# Test the program\n",
    "array = [1, 2, 3, 4, 5]\n",
    "split_index = 2\n",
    "\n",
    "new_array = split_and_add(array, split_index)\n",
    "print(\"Original array:\", array)\n",
    "print(\"Split and added array:\", new_array)\n"
   ]
  },
  {
   "cell_type": "markdown",
   "id": "b8bafc09",
   "metadata": {},
   "source": [
    "# 5. Write a Python Program to check if given array is Monotonic?"
   ]
  },
  {
   "cell_type": "code",
   "execution_count": 5,
   "id": "4336b5b8",
   "metadata": {},
   "outputs": [
    {
     "name": "stdout",
     "output_type": "stream",
     "text": [
      "Array 1 is monotonic: True\n",
      "Array 2 is monotonic: True\n",
      "Array 3 is monotonic: False\n"
     ]
    }
   ],
   "source": [
    "def is_monotonic(arr):\n",
    "    increasing = decreasing = True\n",
    "\n",
    "    # Check if the array is non-decreasing\n",
    "    for i in range(len(arr) - 1):\n",
    "        if arr[i] > arr[i + 1]:\n",
    "            increasing = False\n",
    "            break\n",
    "\n",
    "    # Check if the array is non-increasing\n",
    "    for i in range(len(arr) - 1):\n",
    "        if arr[i] < arr[i + 1]:\n",
    "            decreasing = False\n",
    "            break\n",
    "\n",
    "    # Return True if either increasing or decreasing is True\n",
    "    return increasing or decreasing\n",
    "\n",
    "# Test the program\n",
    "array1 = [1, 2, 3, 4, 5]\n",
    "array2 = [5, 4, 3, 2, 1]\n",
    "array3 = [1, 2, 3, 2, 1]\n",
    "\n",
    "print(\"Array 1 is monotonic:\", is_monotonic(array1))\n",
    "print(\"Array 2 is monotonic:\", is_monotonic(array2))\n",
    "print(\"Array 3 is monotonic:\", is_monotonic(array3))\n"
   ]
  },
  {
   "cell_type": "code",
   "execution_count": null,
   "id": "00d74e60",
   "metadata": {},
   "outputs": [],
   "source": []
  }
 ],
 "metadata": {
  "kernelspec": {
   "display_name": "Python 3 (ipykernel)",
   "language": "python",
   "name": "python3"
  },
  "language_info": {
   "codemirror_mode": {
    "name": "ipython",
    "version": 3
   },
   "file_extension": ".py",
   "mimetype": "text/x-python",
   "name": "python",
   "nbconvert_exporter": "python",
   "pygments_lexer": "ipython3",
   "version": "3.9.12"
  }
 },
 "nbformat": 4,
 "nbformat_minor": 5
}
